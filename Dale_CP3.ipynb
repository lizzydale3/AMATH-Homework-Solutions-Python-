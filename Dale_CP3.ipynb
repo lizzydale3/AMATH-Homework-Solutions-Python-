{
  "nbformat": 4,
  "nbformat_minor": 0,
  "metadata": {
    "colab": {
      "provenance": [],
      "include_colab_link": true
    },
    "kernelspec": {
      "name": "python3",
      "display_name": "Python 3"
    },
    "language_info": {
      "name": "python"
    }
  },
  "cells": [
    {
      "cell_type": "markdown",
      "metadata": {
        "id": "view-in-github",
        "colab_type": "text"
      },
      "source": [
        "<a href=\"https://colab.research.google.com/github/lizzydale3/AMATH-Homework-Solutions-Python-/blob/main/Dale_CP3.ipynb\" target=\"_parent\"><img src=\"https://colab.research.google.com/assets/colab-badge.svg\" alt=\"Open In Colab\"/></a>"
      ]
    },
    {
      "cell_type": "code",
      "execution_count": null,
      "metadata": {
        "colab": {
          "base_uri": "https://localhost:8080/"
        },
        "id": "jRHs4EacGDxd",
        "outputId": "62a324c2-e557-470f-96d5-fece4723a8ae"
      },
      "outputs": [
        {
          "output_type": "stream",
          "name": "stdout",
          "text": [
            "[26.801]\n"
          ]
        }
      ],
      "source": [
        "import numpy as np\n",
        "import scipy.linalg as la\n",
        "import math as m\n",
        "bridge = '/content/drive/MyDrive/Colab Notebooks/Amath 301/bridge_matrix.csv'\n",
        "A = np.genfromtxt(bridge, delimiter=',') ### Don't delete this line\n",
        "\n",
        "# = np.genfromtxt('bridge_matrix.csv', delimiter=',')\n",
        "################################################################################\n",
        "\n",
        "### Problem 1\n",
        "### A is already initialized above from a separate file (don't delete line 4).\n",
        "### Initialize the data (right hand side) b.\n",
        "b = np.array([[0], [0], [0], [0], [0], [0], [0], [0], [3], [0], [m.e**2], [0], [m.pi]])\n",
        "\n",
        "### Solve for the force vector and save it as A1\n",
        "x = la.solve(A, b) #x\n",
        "A1 = x.copy()\n",
        "\n",
        "### Compute the PA = LU factorization of A\n",
        "### You may want to use some of these variables later on so don't forget to\n",
        "### use .copy() wherever appropriate\n",
        "### Save L AS A2, and c as A3.\n",
        "P, L, U = la.lu(A)\n",
        "A2 = L.copy() #L\n",
        "c = U@x\n",
        "A3 = c.copy() #c\n",
        "\n",
        "\n",
        "### Create a loop that breaks when one of the forces is greater than 20 tons\n",
        "### Save A4 as the weight of the truck in position 8\n",
        "### Save A5 as the entry of the force vector that exceeds 20 tons\n",
        "while True:\n",
        "  if np.amax(np.abs(x)) >= 20:\n",
        "    break\n",
        "  b[9]+=0.001\n",
        "  y = la.solve(L, (np.transpose(P)@b))\n",
        "  x = la.solve(U, y)\n",
        "\n",
        "A4 = b[9]\n",
        "A5 = np.argmax(x)\n",
        "print(A4)"
      ]
    },
    {
      "cell_type": "code",
      "source": [
        "### Problem 2\n",
        "### Initialize, alpha, omega, and A, and compute the PA = LU factorization\n",
        "a = -0.002\n",
        "w = 0.06\n",
        "A = np.array([[1-a,-w],[w, 1-a]])\n",
        "euler = np.zeros((1,1001))\n",
        "oiler = np.zeros((1,1001))\n",
        "euler[0,0] = 1\n",
        "oiler[0,0] = -1\n",
        "P, L, U = la.lu(A)\n",
        "\n",
        "### The initializations can get a little tricky so definitely ask for help\n",
        "### if you're stuck.\n",
        "### Initialize a matrix made up of the position vector at each time\n",
        "### Set the first x and y coordinates at time = 0 in your matrix\n",
        "### to the values instructed in the assignment file.\n",
        "### Create a loop that loops through each time given in the assignment file.\n",
        "### Compute the new right hand side c using P, L, and/or U.\n",
        "### You may need to recall that the inverse of P is P transpose\n",
        "### Solve for the position by solving the Ux = c equation.\n",
        "### Save all x coordinates as A6\n",
        "### Save all y coordinates as A7\n",
        "### Save the distance from the origin as A8\n",
        "i = 1\n",
        "while i<1001:\n",
        "  b = [euler[0,i-1],oiler[0,i-1]]\n",
        "  y = la.solve(L, (np.transpose(P)@b))\n",
        "  x = la.solve(U,y)\n",
        "  euler[0,i] = x[0]\n",
        "  oiler[0,i] = x[1]\n",
        "  i+=1\n",
        "A6 = euler\n",
        "A7 = oiler\n",
        "\n",
        "loo = np.zeros((1,1001))\n",
        "k = 1\n",
        "while k<1002:\n",
        "  loo[0,k-1] = m.sqrt((euler[0,k-1]**2)+(oiler[0,k-1]**2))\n",
        "  k+=1\n",
        "A8 = loo.copy()\n",
        "\n",
        "\n",
        "### Initialize a position vector\n",
        "### Initialize a distance variable\n",
        "### Initialize a time variable\n",
        "### Create a loop that breaks when the distance from the origin is\n",
        "### less than 0.06.\n",
        "### In the loop compute the position using P, L, and/or U and\n",
        "### compute the distance from the origin.\n",
        "### Iterate time at each iteration of the loop.\n",
        "### Save the time the loop breaks as A9.\n",
        "\n",
        "for j in range(1001):\n",
        "  if loo[0,j]<0.06:\n",
        "    break\n",
        "\n",
        "A9 = j\n",
        "A10 = loo[0,j]\n"
      ],
      "metadata": {
        "id": "sSHJxYleLzPh"
      },
      "execution_count": null,
      "outputs": []
    },
    {
      "cell_type": "code",
      "source": [
        "### Problem 3\n",
        "### Create a function here for the rotation matrix that\n",
        "### takes an input in radians and returns the matrix.\n",
        "def yeehaw (o):\n",
        "  R = np.array([[m.cos(o),0,m.sin(o)],[0,1,0],[-m.sin(o),0,m.cos(o)]])\n",
        "  return R\n",
        "\n",
        "### Save A11 as R(pi/8)\n",
        "A11 = yeehaw(m.pi/8)\n",
        "\n",
        "### Rotate the vector given in the assignment file and save it as A12.\n",
        "ex = np.array([[m.pi/10],[2.1],[-m.e]])\n",
        "A12 = yeehaw(m.pi/3)@ex\n",
        "\n",
        "### Find the vector x that was rotated to give you vector b.\n",
        "### Save the vector x as A13\n",
        "bee = np.array([[1.4],[-m.pi/10],[2.8]])\n",
        "A13 = la.solve(yeehaw(m.pi/6),bee)\n",
        "\n",
        "\n",
        "### Invert the R(3*pi/4) and save it as A14.\n",
        "### Find the angle theta that would give you this inverse\n",
        "### without having to do matrix operations, and save the angle\n",
        "### as A15.\n",
        "A14 = la.inv(yeehaw((3*m.pi)/4))\n",
        "A15 = (-3*m.pi)/4\n"
      ],
      "metadata": {
        "id": "yyYr7osfL7nM"
      },
      "execution_count": null,
      "outputs": []
    }
  ]
}