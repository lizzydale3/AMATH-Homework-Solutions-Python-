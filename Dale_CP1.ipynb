{
  "nbformat": 4,
  "nbformat_minor": 0,
  "metadata": {
    "colab": {
      "provenance": [],
      "include_colab_link": true
    },
    "kernelspec": {
      "name": "python3",
      "display_name": "Python 3"
    },
    "language_info": {
      "name": "python"
    }
  },
  "cells": [
    {
      "cell_type": "markdown",
      "metadata": {
        "id": "view-in-github",
        "colab_type": "text"
      },
      "source": [
        "<a href=\"https://colab.research.google.com/github/lizzydale3/AMATH-Homework-Solutions-Python-/blob/main/Dale_CP1.ipynb\" target=\"_parent\"><img src=\"https://colab.research.google.com/assets/colab-badge.svg\" alt=\"Open In Colab\"/></a>"
      ]
    },
    {
      "cell_type": "code",
      "source": [
        "import numpy as np\n",
        "\n",
        "A = np.array([[3,-0.5],[3.14,np.e**3]])\n",
        "B = np.array([[1,2,3,-4],[np.pi,6,3, -1.4]])\n",
        "C = np.array([[2.7,-3.4,0],[1,5.5,-3.7],[4.5,-1.1,6.7]])\n",
        "x = np.array([[1],[np.cos(4)],[-2]])\n",
        "y = np.array([[3,-5]])\n",
        "z = np.array([[2],[0],[np.tan(2)],[-3.6]])\n",
        "\n",
        "# Problem 1\n",
        "A1 = 3*x\n",
        "A2 = np.dot(np.transpose(z),np.transpose(B))+y\n",
        "A3 = np.dot(C,x)\n",
        "A4 = np.dot(A,B)\n",
        "A5 = np.dot(np.transpose(B),np.transpose(A))\n",
        "\n",
        "# Problem 2\n",
        "A6 = np.linspace(-4, 1, num=73).reshape(1,73)\n",
        "y = np.arange(0,73, dtype=float).reshape(1, 73)\n",
        "A7 = np.cos(y)\n",
        "A8 = A6*A7\n",
        "A9 = A6/A7\n",
        "A10 = A6**3-A7\n",
        "\n",
        "# Problem 3\n",
        "def pop_growth(P, K, r, E, t):\n",
        "  if E == 0:\n",
        "    return r*P*(1-P/K)\n",
        "  elif E == 1:\n",
        "    i  = 0\n",
        "    j = [0]\n",
        "    while i<= t:\n",
        "      j[0] = P\n",
        "      j.append(j[i]*np.e**(r*(1-(j[i]/K))))\n",
        "      i+=1\n",
        "    return j[t+1]\n",
        "\n",
        "A11 = pop_growth(5,10,2,0,3)\n",
        "A12 = pop_growth(10,15,3,0,4)\n",
        "A13 = pop_growth(5,12,2,1,2)\n",
        "A14 = pop_growth(2,25,2.5,1,3)\n",
        "A15 = pop_growth(0,20,3.1,1,500)"
      ],
      "metadata": {
        "id": "xs13iTjCT-9m"
      },
      "execution_count": null,
      "outputs": []
    }
  ]
}